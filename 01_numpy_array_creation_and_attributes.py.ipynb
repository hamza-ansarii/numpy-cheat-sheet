{
 "cells": [
  {
   "cell_type": "markdown",
   "id": "9574dd6d-a53e-491e-9d01-48fdd952f18b",
   "metadata": {},
   "source": [
    "# TOPIC 1: NumPy Array Creation"
   ]
  },
  {
   "cell_type": "code",
   "execution_count": 2,
   "id": "ed87fcea-f096-4453-a471-ee57fc1a1b08",
   "metadata": {},
   "outputs": [],
   "source": [
    "import numpy as np"
   ]
  },
  {
   "cell_type": "code",
   "execution_count": 3,
   "id": "19ad785e-40c5-47f0-9ee1-8b782776f9f5",
   "metadata": {},
   "outputs": [
    {
     "data": {
      "text/plain": [
       "array([10, 20, 30, 40, 50])"
      ]
     },
     "execution_count": 3,
     "metadata": {},
     "output_type": "execute_result"
    }
   ],
   "source": [
    "arr = np.array([10,20,30,40,50])\n",
    "arr"
   ]
  },
  {
   "cell_type": "code",
   "execution_count": 4,
   "id": "1fada5c0-3fcb-496d-b1b5-8738d69cd682",
   "metadata": {},
   "outputs": [
    {
     "name": "stdout",
     "output_type": "stream",
     "text": [
      "<class 'numpy.ndarray'>\n"
     ]
    }
   ],
   "source": [
    "print(type(arr))"
   ]
  },
  {
   "cell_type": "code",
   "execution_count": 5,
   "id": "0e2bf4dc-f9a5-4222-ba58-34ea593c6ac6",
   "metadata": {},
   "outputs": [
    {
     "data": {
      "text/plain": [
       "array([0, 1, 2, 3, 4, 5, 6, 7, 8, 9])"
      ]
     },
     "execution_count": 5,
     "metadata": {},
     "output_type": "execute_result"
    }
   ],
   "source": [
    "# using numpy arange\n",
    "\n",
    "arr1 = np.arange(10)\n",
    "arr1"
   ]
  },
  {
   "cell_type": "code",
   "execution_count": 6,
   "id": "1aa4e512-2bb6-4101-b8f2-0aa4524d7cf5",
   "metadata": {},
   "outputs": [
    {
     "data": {
      "text/plain": [
       "array([[-0.77828513,  0.56569657, -0.94974278,  0.11162643,  1.10379235,\n",
       "         2.58217998, -0.69125732, -0.31359892,  0.81632205,  0.03747736]])"
      ]
     },
     "execution_count": 6,
     "metadata": {},
     "output_type": "execute_result"
    }
   ],
   "source": [
    "arr2 = np.random.randn(1,10)\n",
    "arr2"
   ]
  },
  {
   "cell_type": "code",
   "execution_count": 7,
   "id": "20a6bb71-4c7d-4f2f-b23c-272176e969d1",
   "metadata": {},
   "outputs": [
    {
     "data": {
      "text/plain": [
       "array([[0.88521034, 0.42777328, 0.33694488, 0.50433047, 0.14522789,\n",
       "        0.15704477, 0.1937272 , 0.50825537, 0.07599444, 0.42789915]])"
      ]
     },
     "execution_count": 7,
     "metadata": {},
     "output_type": "execute_result"
    }
   ],
   "source": [
    "arr3 = np.random.rand(1,10)\n",
    "arr3"
   ]
  },
  {
   "cell_type": "code",
   "execution_count": 8,
   "id": "176e3e40-9920-4dc8-bb65-08101180a8db",
   "metadata": {},
   "outputs": [
    {
     "data": {
      "text/plain": [
       "dtype('int32')"
      ]
     },
     "execution_count": 8,
     "metadata": {},
     "output_type": "execute_result"
    }
   ],
   "source": [
    "arr1.dtype"
   ]
  },
  {
   "cell_type": "markdown",
   "id": "f6085161-52e7-4e2a-a6fc-7f0fbc84fe79",
   "metadata": {},
   "source": [
    "#  TOPIC 2: 1D, 2D, 3D Arrays in NumPy"
   ]
  },
  {
   "cell_type": "markdown",
   "id": "4a43aa0e-0f17-4ca8-b8c0-fcc7269c93ad",
   "metadata": {},
   "source": [
    "# 1 dimensional Array"
   ]
  },
  {
   "cell_type": "code",
   "execution_count": 9,
   "id": "269cdbb2-ac25-4d41-92b8-dbd617eb9c6d",
   "metadata": {},
   "outputs": [
    {
     "data": {
      "text/plain": [
       "array([1, 2, 3, 4, 5])"
      ]
     },
     "execution_count": 9,
     "metadata": {},
     "output_type": "execute_result"
    }
   ],
   "source": [
    "arr_1d = np.array([1,2,3,4,5])\n",
    "\n",
    "arr_1d"
   ]
  },
  {
   "cell_type": "code",
   "execution_count": 10,
   "id": "ec5e961e-9fa7-4a37-9073-7039a1df59c3",
   "metadata": {},
   "outputs": [
    {
     "data": {
      "text/plain": [
       "1"
      ]
     },
     "execution_count": 10,
     "metadata": {},
     "output_type": "execute_result"
    }
   ],
   "source": [
    "arr_1d.ndim"
   ]
  },
  {
   "cell_type": "code",
   "execution_count": 11,
   "id": "87d5d6c5-d3d5-49c5-9a86-73b5b3a898e8",
   "metadata": {},
   "outputs": [
    {
     "data": {
      "text/plain": [
       "array([1, 2, 3, 4, 5])"
      ]
     },
     "execution_count": 11,
     "metadata": {},
     "output_type": "execute_result"
    }
   ],
   "source": [
    "arr_1d = np.array([1,2,3,4,5])\n",
    "\n",
    "arr_1d\n"
   ]
  },
  {
   "cell_type": "code",
   "execution_count": 12,
   "id": "9d155b12-c3d4-4d73-bbf6-efedc0a84db7",
   "metadata": {},
   "outputs": [
    {
     "data": {
      "text/plain": [
       "1"
      ]
     },
     "execution_count": 12,
     "metadata": {},
     "output_type": "execute_result"
    }
   ],
   "source": [
    "arr_1d.ndim"
   ]
  },
  {
   "cell_type": "markdown",
   "id": "02c32f89-d136-4755-93e1-708dcca8d442",
   "metadata": {},
   "source": [
    "# 2 Dimensional Array"
   ]
  },
  {
   "cell_type": "code",
   "execution_count": 13,
   "id": "219133b5-3a23-4f86-9eb5-5f5ab15a061c",
   "metadata": {},
   "outputs": [
    {
     "data": {
      "text/plain": [
       "array([[1, 2],\n",
       "       [3, 4]])"
      ]
     },
     "execution_count": 13,
     "metadata": {},
     "output_type": "execute_result"
    }
   ],
   "source": [
    "arr_2d = np.array([[1,2],\n",
    "                   [3,4]])\n",
    "\n",
    "arr_2d"
   ]
  },
  {
   "cell_type": "code",
   "execution_count": 14,
   "id": "75655b52-6827-4793-bbe5-8ca9a4d59e17",
   "metadata": {},
   "outputs": [
    {
     "data": {
      "text/plain": [
       "2"
      ]
     },
     "execution_count": 14,
     "metadata": {},
     "output_type": "execute_result"
    }
   ],
   "source": [
    "arr_2d.ndim"
   ]
  },
  {
   "cell_type": "markdown",
   "id": "1f02c699-fc17-4184-ba80-b98b3d385bcc",
   "metadata": {},
   "source": [
    "# 3 Dimensional Array"
   ]
  },
  {
   "cell_type": "code",
   "execution_count": 15,
   "id": "90bfef61-22d1-4f13-b8ab-4a327b34d276",
   "metadata": {},
   "outputs": [
    {
     "name": "stdout",
     "output_type": "stream",
     "text": [
      "[[[1 2]\n",
      "  [3 4]]\n",
      "\n",
      " [[5 6]\n",
      "  [7 8]]]\n"
     ]
    }
   ],
   "source": [
    "arr_3d = np.array([\n",
    "    [[1, 2], [3, 4]],\n",
    "    [[5, 6], [7, 8]]\n",
    "])\n",
    "print(arr_3d)\n"
   ]
  },
  {
   "cell_type": "code",
   "execution_count": 16,
   "id": "39752354-a461-4b10-8d22-78d566574d74",
   "metadata": {},
   "outputs": [
    {
     "data": {
      "text/plain": [
       "3"
      ]
     },
     "execution_count": 16,
     "metadata": {},
     "output_type": "execute_result"
    }
   ],
   "source": [
    "arr_3d.ndim"
   ]
  },
  {
   "cell_type": "markdown",
   "id": "810d15c6-3646-4233-ab15-749494da690c",
   "metadata": {},
   "source": [
    "# TOPIC 3: Array Attributes in NumPy"
   ]
  },
  {
   "cell_type": "code",
   "execution_count": 17,
   "id": "def27202-8339-4456-a6cd-e850af47234b",
   "metadata": {},
   "outputs": [
    {
     "data": {
      "text/plain": [
       "array([[ 1,  2],\n",
       "       [ 3,  4],\n",
       "       [ 5,  6],\n",
       "       [ 7,  8],\n",
       "       [ 9, 10],\n",
       "       [11, 12]])"
      ]
     },
     "execution_count": 17,
     "metadata": {},
     "output_type": "execute_result"
    }
   ],
   "source": [
    "arr_2d = np.array([\n",
    "    [1,2],[3,4],\n",
    "    [5,6],[7,8],\n",
    "    [9,10],[11,12]\n",
    "])\n",
    "arr_2d"
   ]
  },
  {
   "cell_type": "code",
   "execution_count": 18,
   "id": "1b7869a0-d40a-44ba-b1e1-0a3b5766eae7",
   "metadata": {},
   "outputs": [
    {
     "data": {
      "text/plain": [
       "dtype('int32')"
      ]
     },
     "execution_count": 18,
     "metadata": {},
     "output_type": "execute_result"
    }
   ],
   "source": [
    "arr_2d.dtype"
   ]
  },
  {
   "cell_type": "code",
   "execution_count": 19,
   "id": "91df348f-1bed-4a64-903a-39b6b54dc224",
   "metadata": {},
   "outputs": [
    {
     "data": {
      "text/plain": [
       "12"
      ]
     },
     "execution_count": 19,
     "metadata": {},
     "output_type": "execute_result"
    }
   ],
   "source": [
    "arr_2d.size"
   ]
  },
  {
   "cell_type": "code",
   "execution_count": 20,
   "id": "12b824a1-8eee-4543-9b12-9b271b8bd3de",
   "metadata": {},
   "outputs": [
    {
     "data": {
      "text/plain": [
       "2"
      ]
     },
     "execution_count": 20,
     "metadata": {},
     "output_type": "execute_result"
    }
   ],
   "source": [
    "arr_2d.ndim"
   ]
  },
  {
   "cell_type": "code",
   "execution_count": 21,
   "id": "228144b3-974d-4014-9c29-5f1b51dbf760",
   "metadata": {},
   "outputs": [
    {
     "data": {
      "text/plain": [
       "(6, 2)"
      ]
     },
     "execution_count": 21,
     "metadata": {},
     "output_type": "execute_result"
    }
   ],
   "source": [
    "arr_2d.shape"
   ]
  },
  {
   "cell_type": "markdown",
   "id": "bb685221-3106-4431-a2cb-300d6c6e46c5",
   "metadata": {},
   "source": [
    "# TOPIC 4: Vectorized Operations in NumPy"
   ]
  },
  {
   "cell_type": "code",
   "execution_count": 22,
   "id": "4d55dfa9-4cfe-43df-b9ec-7defc5b92d70",
   "metadata": {},
   "outputs": [
    {
     "name": "stdout",
     "output_type": "stream",
     "text": [
      "[5, 7, 9]\n"
     ]
    }
   ],
   "source": [
    "# in python \n",
    "\n",
    "a = [1,2,3]\n",
    "b = [4,5,6]\n",
    "c = []\n",
    "\n",
    "for i in range(len(a)):\n",
    "    c.append(a[i] + b[i])\n",
    "\n",
    "print(c)"
   ]
  },
  {
   "cell_type": "code",
   "execution_count": 23,
   "id": "c97a4fec-1f04-489c-94d3-61650c5cc8d1",
   "metadata": {},
   "outputs": [
    {
     "name": "stdout",
     "output_type": "stream",
     "text": [
      "[5 7 9]\n"
     ]
    }
   ],
   "source": [
    "# in numpy\n",
    "a = np.array([1,2,3])\n",
    "b = np.array([4,5,6])\n",
    "c = a+b\n",
    "print(c)"
   ]
  },
  {
   "cell_type": "code",
   "execution_count": 24,
   "id": "7f87bd42-b663-4011-b86c-9eb9f4f3ee9f",
   "metadata": {},
   "outputs": [
    {
     "name": "stdout",
     "output_type": "stream",
     "text": [
      "[6 7 8 9]\n",
      "[-1  0  1  2]\n",
      "[10 20 30 40]\n",
      "[0.5 1.  1.5 2. ]\n",
      "[ 1  4  9 16]\n"
     ]
    }
   ],
   "source": [
    "#  Vectorized Operations Examples:\n",
    "\n",
    "a = np.array([1, 2, 3, 4])\n",
    "\n",
    "print(a + 5)     # [6 7 8 9]\n",
    "print(a - 2)     # [-1 0 1 2]\n",
    "print(a * 10)    # [10 20 30 40]\n",
    "print(a / 2)     # [0.5 1.0 1.5 2.0]\n",
    "print(a ** 2)    # [1 4 9 16] — square"
   ]
  },
  {
   "cell_type": "markdown",
   "id": "4aed8437-8f9e-4b0b-ae6c-7f399dbe8ce9",
   "metadata": {},
   "source": [
    "# TASK 4"
   ]
  },
  {
   "cell_type": "code",
   "execution_count": 25,
   "id": "c8c741c9-5959-42d4-828c-6c3ba2962901",
   "metadata": {},
   "outputs": [
    {
     "name": "stdout",
     "output_type": "stream",
     "text": [
      "[ 7  9 11 13]\n",
      "[ 4  8 12 16]\n",
      "[1 3 5 7]\n",
      "[ 4 16 36 64]\n"
     ]
    }
   ],
   "source": [
    "t = np.array([2,4,6,8])\n",
    "\n",
    "print(t + 5)\n",
    "print(t * 2)\n",
    "print(t - 1)\n",
    "print(t ** 2)"
   ]
  },
  {
   "cell_type": "markdown",
   "id": "988a6170-4bd6-4523-a52c-5d200cb63078",
   "metadata": {},
   "source": [
    "## NumPy Array Creation Methods\n",
    "\n"
   ]
  },
  {
   "cell_type": "markdown",
   "id": "fc3948fd-b9a0-4fc0-baa5-2c2a98e29b1d",
   "metadata": {},
   "source": [
    "- Task 1:\n",
    "Ek array banao jo 2 se 20 tak ke even numbers contain kare using np.arange()"
   ]
  },
  {
   "cell_type": "code",
   "execution_count": 26,
   "id": "2e552aa2-03b9-4201-bce9-5d390f7be55f",
   "metadata": {},
   "outputs": [
    {
     "data": {
      "text/plain": [
       "array([ 2,  4,  6,  8, 10, 12, 14, 16, 18])"
      ]
     },
     "execution_count": 26,
     "metadata": {},
     "output_type": "execute_result"
    }
   ],
   "source": [
    "arr = np.arange(2,20,2)\n",
    "arr"
   ]
  },
  {
   "cell_type": "markdown",
   "id": "14868784-0b53-48ce-8fd7-1529480b63cc",
   "metadata": {},
   "source": [
    "-  Task 2:\n",
    "Ek array banao jo 30 se 10 tak reverse jaye with step of 5"
   ]
  },
  {
   "cell_type": "code",
   "execution_count": 27,
   "id": "63ac52b8-89bf-41b4-98de-bfebb96eb700",
   "metadata": {},
   "outputs": [
    {
     "name": "stdout",
     "output_type": "stream",
     "text": [
      "[30 25 20 15]\n"
     ]
    }
   ],
   "source": [
    "arr2 = np.arange(30,10,-5)\n",
    "\n",
    "print(arr2)"
   ]
  },
  {
   "cell_type": "markdown",
   "id": "ee6a2960-a8cb-49f6-bcb7-6b932c2af616",
   "metadata": {},
   "source": [
    "## linspace\n",
    "- linspace(start,stop,number)"
   ]
  },
  {
   "cell_type": "code",
   "execution_count": 28,
   "id": "5f599c5c-5451-4338-9f56-81ba131e468a",
   "metadata": {},
   "outputs": [
    {
     "name": "stdout",
     "output_type": "stream",
     "text": [
      "[0.   0.25 0.5  0.75 1.  ]\n"
     ]
    }
   ],
   "source": [
    "import numpy as np\n",
    "\n",
    "arr = np.linspace(0, 1, 5)\n",
    "print(arr)\n",
    "# [0.   0.25 0.5  0.75 1.  ]\n"
   ]
  },
  {
   "cell_type": "markdown",
   "id": "6279c3b8-929c-43b1-aad4-b31ee250f50f",
   "metadata": {},
   "source": [
    "- Task 1:\n",
    "Ek array banao jo 1 se 5 tak 9 equally spaced values de."
   ]
  },
  {
   "cell_type": "code",
   "execution_count": 29,
   "id": "8e553951-b6ad-43c7-8718-12ea1459e92e",
   "metadata": {},
   "outputs": [
    {
     "data": {
      "text/plain": [
       "array([1. , 1.5, 2. , 2.5, 3. , 3.5, 4. , 4.5, 5. ])"
      ]
     },
     "execution_count": 29,
     "metadata": {},
     "output_type": "execute_result"
    }
   ],
   "source": [
    "arr3 = np.linspace(1,5,9)\n",
    "\n",
    "arr3"
   ]
  },
  {
   "cell_type": "markdown",
   "id": "fc1929d1-0ac1-4720-bfbe-098e80086b0a",
   "metadata": {},
   "source": [
    "- Task 2:\n",
    "Ek array banao jo 0 se 100 tak 6 values generate kare using linspace()\n",
    "\n"
   ]
  },
  {
   "cell_type": "code",
   "execution_count": 30,
   "id": "ab2e95cf-b691-4afe-b3fb-83a421853c1a",
   "metadata": {},
   "outputs": [
    {
     "data": {
      "text/plain": [
       "array([  0.        ,   2.05306122,   4.10612245,   6.15918367,\n",
       "         8.2122449 ,  10.26530612,  12.31836735,  14.37142857,\n",
       "        16.4244898 ,  18.47755102,  20.53061224,  22.58367347,\n",
       "        24.63673469,  26.68979592,  28.74285714,  30.79591837,\n",
       "        32.84897959,  34.90204082,  36.95510204,  39.00816327,\n",
       "        41.06122449,  43.11428571,  45.16734694,  47.22040816,\n",
       "        49.27346939,  51.32653061,  53.37959184,  55.43265306,\n",
       "        57.48571429,  59.53877551,  61.59183673,  63.64489796,\n",
       "        65.69795918,  67.75102041,  69.80408163,  71.85714286,\n",
       "        73.91020408,  75.96326531,  78.01632653,  80.06938776,\n",
       "        82.12244898,  84.1755102 ,  86.22857143,  88.28163265,\n",
       "        90.33469388,  92.3877551 ,  94.44081633,  96.49387755,\n",
       "        98.54693878, 100.6       ])"
      ]
     },
     "execution_count": 30,
     "metadata": {},
     "output_type": "execute_result"
    }
   ],
   "source": [
    "arr3 = np.linspace(0,100.6)\n",
    "arr3"
   ]
  },
  {
   "cell_type": "markdown",
   "id": "9765d0da-d4c4-4c7f-988c-1e18ba5551ec",
   "metadata": {},
   "source": [
    "## zeros"
   ]
  },
  {
   "cell_type": "markdown",
   "id": "735756c3-cb19-454a-b647-0a09a94a7368",
   "metadata": {},
   "source": [
    "## np.zeros(shape, dtype)\n",
    "- shape: Array ki dimensions (rows, columns, etc.)\n",
    "\n",
    "- dtype: Data type (optional — default is float)"
   ]
  },
  {
   "cell_type": "markdown",
   "id": "4660dfc8-c0fe-41b3-92cc-d12a20ee1e7d",
   "metadata": {},
   "source": [
    "- Task 1:\n",
    "Ek 2x3 array bana jo zeros se filled ho.\n"
   ]
  },
  {
   "cell_type": "code",
   "execution_count": 31,
   "id": "9de41af0-d8a4-41bb-9fe2-50925e22b506",
   "metadata": {},
   "outputs": [
    {
     "data": {
      "text/plain": [
       "array([[0., 0., 0.],\n",
       "       [0., 0., 0.]])"
      ]
     },
     "execution_count": 31,
     "metadata": {},
     "output_type": "execute_result"
    }
   ],
   "source": [
    "arr = np.zeros((2,3))\n",
    "\n",
    "arr"
   ]
  },
  {
   "cell_type": "markdown",
   "id": "f748a9e1-63cd-473f-9306-fd1a38eba396",
   "metadata": {},
   "source": [
    "- Task 2:\n",
    "Ek 5 elements ka array bana jo integers ho (dtype=int).\n"
   ]
  },
  {
   "cell_type": "code",
   "execution_count": 32,
   "id": "2449660f-89c4-418f-ab18-eba9b6146973",
   "metadata": {},
   "outputs": [
    {
     "name": "stdout",
     "output_type": "stream",
     "text": [
      "[0 0 0 0 0]\n"
     ]
    }
   ],
   "source": [
    "arr1 = np.zeros((5), dtype=int)\n",
    "print(arr1)"
   ]
  },
  {
   "cell_type": "markdown",
   "id": "8be2baad-11d1-43ec-a2b8-5296745676a7",
   "metadata": {},
   "source": [
    "# np.ones()"
   ]
  },
  {
   "cell_type": "markdown",
   "id": "6e28c4b6-0843-4a55-b998-4f3768f8c79e",
   "metadata": {},
   "source": [
    "- Task Ek 2D array banao jisme 4 rows aur 2 columns ho — sirf ones hon (int type)"
   ]
  },
  {
   "cell_type": "code",
   "execution_count": 33,
   "id": "45bae114-8b5b-4f50-8f0f-b828de7e3431",
   "metadata": {},
   "outputs": [
    {
     "name": "stdout",
     "output_type": "stream",
     "text": [
      "[[1 1]\n",
      " [1 1]\n",
      " [1 1]\n",
      " [1 1]]\n"
     ]
    }
   ],
   "source": [
    "arr2 = np.ones((4,2), dtype=int)\n",
    "print(arr2)"
   ]
  },
  {
   "cell_type": "markdown",
   "id": "48a7d0c8-9359-4bf9-9863-656e2136cebf",
   "metadata": {},
   "source": [
    "# np.full()"
   ]
  },
  {
   "cell_type": "markdown",
   "id": "298e427d-099a-4238-b58a-75fe61628c1d",
   "metadata": {},
   "source": [
    "## Syntax:\n",
    "\n",
    "### np.full(shape, fill_value, dtype=None)"
   ]
  },
  {
   "cell_type": "markdown",
   "id": "2edac75d-faa4-4594-ba42-e238729e58e3",
   "metadata": {},
   "source": [
    "- Ek 2D array banao jisme 2 rows aur 4 columns hon, aur sab values 99 hon (int type)"
   ]
  },
  {
   "cell_type": "code",
   "execution_count": 34,
   "id": "f7a9c9a6-76fe-483c-b5ee-accd58f24971",
   "metadata": {},
   "outputs": [
    {
     "name": "stdout",
     "output_type": "stream",
     "text": [
      "[[99 99 99 99]\n",
      " [99 99 99 99]]\n"
     ]
    }
   ],
   "source": [
    "arr3 = np.full((2,4), 99 , dtype=int)\n",
    "\n",
    "print(arr3)"
   ]
  },
  {
   "cell_type": "markdown",
   "id": "3805c82b-1c02-4f10-baed-8c58669b5e18",
   "metadata": {},
   "source": [
    "# np.eye()\n",
    " Description:\n",
    "np.eye() identity matrix banata hai — jisme diagonal me 1 hotay hain, baaki sab 0.\n",
    "\n",
    "Identity matrix maths aur linear algebra (jaise matrix multiplication, inversion) me bohot important hoti hai.\n",
    "\n"
   ]
  },
  {
   "cell_type": "markdown",
   "id": "53b11294-331a-41f7-8919-abd5d32643c5",
   "metadata": {},
   "source": [
    "## Syntax:\n",
    "\n",
    "### np.eye(N, M=None, k=0, dtype=float)\n",
    "## Parameters:\n",
    "- N: number of rows\n",
    "\n",
    "- M: number of columns (optional — agar na do to square matrix banti hai)\n",
    "\n",
    "- k: diagonal shift (0 = main diagonal, +1 = upper, -1 = lower)\n",
    "\n"
   ]
  },
  {
   "cell_type": "markdown",
   "id": "39b1cb3a-c58c-4e95-a92a-c07ff67abe5d",
   "metadata": {},
   "source": [
    "- Ek 5x5 identity matrix banao jisme data type int ho"
   ]
  },
  {
   "cell_type": "code",
   "execution_count": 35,
   "id": "b8c6a6bd-7826-4dc3-93df-50c857b901fb",
   "metadata": {},
   "outputs": [
    {
     "name": "stdout",
     "output_type": "stream",
     "text": [
      "[[1 0 0 0 0]\n",
      " [0 1 0 0 0]\n",
      " [0 0 1 0 0]\n",
      " [0 0 0 1 0]\n",
      " [0 0 0 0 1]]\n"
     ]
    }
   ],
   "source": [
    "arr4 = np.eye((5), dtype=int)\n",
    "\n",
    "print(arr4)"
   ]
  },
  {
   "cell_type": "markdown",
   "id": "a3e399c9-997e-4301-a685-d70b98a6e1eb",
   "metadata": {},
   "source": [
    "# np.reshape()\n",
    "## Description:\n",
    "np.reshape() array ki shape ko change karta hai bina data ko chheday. Jaise ek 1D array ko 2D ya 3D me convert karna."
   ]
  },
  {
   "cell_type": "markdown",
   "id": "0587e76b-9175-48e9-81c4-b82a299d3c2f",
   "metadata": {},
   "source": [
    "## Syntax:\n",
    "\n",
    "- np.reshape(array, new_shape)\n",
    "## Ya:\n",
    "\n",
    "- array.reshape(new_shape)"
   ]
  },
  {
   "cell_type": "code",
   "execution_count": 36,
   "id": "ab66f1b4-1dd9-41c5-928c-43f7763be76a",
   "metadata": {},
   "outputs": [
    {
     "name": "stdout",
     "output_type": "stream",
     "text": [
      "[[1 2]\n",
      " [3 4]\n",
      " [5 6]]\n"
     ]
    }
   ],
   "source": [
    "# Example 1: 1D to 2D (3x2)\n",
    "\n",
    "arr = np.array([1, 2, 3, 4, 5, 6])\n",
    "reshaped = arr.reshape(3, 2)\n",
    "print(reshaped)"
   ]
  },
  {
   "cell_type": "code",
   "execution_count": 37,
   "id": "936408fd-7e71-4808-b3cf-229a19ce1ac0",
   "metadata": {},
   "outputs": [
    {
     "name": "stdout",
     "output_type": "stream",
     "text": [
      "[[[ 1  2  3]\n",
      "  [ 4  5  6]]\n",
      "\n",
      " [[ 7  8  9]\n",
      "  [10 11 12]]]\n"
     ]
    }
   ],
   "source": [
    "# Example 2: 1D to 3D (2x2x3)\n",
    "\n",
    "arr = np.array([1, 2, 3, 4, 5, 6, 7, 8, 9, 10, 11, 12])\n",
    "reshaped = arr.reshape(2, 2, 3)\n",
    "print(reshaped)"
   ]
  },
  {
   "cell_type": "markdown",
   "id": "08105842-e25e-4b33-b641-175f1de2a5ae",
   "metadata": {},
   "source": [
    "- Ek 1D array banao 1 se 12 tak, usko 2D (3x4) me reshape karo"
   ]
  },
  {
   "cell_type": "code",
   "execution_count": 38,
   "id": "64fd3ab9-2fa0-4bea-8146-f1f96305623c",
   "metadata": {},
   "outputs": [
    {
     "name": "stdout",
     "output_type": "stream",
     "text": [
      "[[ 1  2  3  4]\n",
      " [ 5  6  7  8]\n",
      " [ 9 10 11 12]]\n"
     ]
    }
   ],
   "source": [
    "arr = np.arange(1,13)\n",
    "reshped = arr.reshape(3,4)\n",
    "\n",
    "print(reshped)"
   ]
  },
  {
   "cell_type": "markdown",
   "id": "9137ed47-311e-4180-b69b-5c2ca52b0b55",
   "metadata": {},
   "source": [
    "# np.random.rand()\n",
    "## Description:\n",
    "np.random.rand() se milte hain random float numbers jo range me hote hain:\n",
    "**0 se 1 ke beech (0 inclusive, 1 exclusive)**\n",
    "\n",
    "Ye values uniform distribution ke according hoti hain. Testing, visualization aur simulations me kaam aata hai."
   ]
  },
  {
   "cell_type": "markdown",
   "id": "fbe67960-932b-48b2-bef3-29081d94e92a",
   "metadata": {},
   "source": [
    "## Syntax:\n",
    "np.random.rand(shape)"
   ]
  },
  {
   "cell_type": "code",
   "execution_count": 39,
   "id": "0617b1ed-1c20-4c8d-9da5-b240a673071e",
   "metadata": {},
   "outputs": [
    {
     "name": "stdout",
     "output_type": "stream",
     "text": [
      "[[0.87094157 0.4990985  0.51820744]\n",
      " [0.52438602 0.78595039 0.8957285 ]\n",
      " [0.59290213 0.12478325 0.65189276]\n",
      " [0.3692877  0.45004768 0.96876221]]\n"
     ]
    }
   ],
   "source": [
    "# Ek 4x3 ka random array banao jisme values 0 aur 1 ke beech hon\n",
    "arr = np.random.rand(4, 3)\n",
    "print(arr)\n"
   ]
  },
  {
   "cell_type": "markdown",
   "id": "a46a306b-94d1-461f-8a4f-cd3ab70cae73",
   "metadata": {},
   "source": [
    "# np.random.randn()\n",
    "## Description:\n",
    "np.random.randn() bhi random float values deta hai, lekin normal distribution ke according — jise Gaussian distribution bhi kehte hain.\n",
    "\n",
    "- Matlab:\n",
    "\n",
    "Most values center (mean=0) ke paas hoti hain\n",
    "\n",
    "Few values extreme me (positive/negative)"
   ]
  },
  {
   "cell_type": "markdown",
   "id": "0697c2a1-2a16-4da3-b11f-2a90f301dd7c",
   "metadata": {},
   "source": [
    "- Syntax:\n",
    "np.random.randn(shape)"
   ]
  },
  {
   "cell_type": "code",
   "execution_count": 40,
   "id": "c38efcfc-5cbf-4716-9594-2cc4994a3c05",
   "metadata": {},
   "outputs": [
    {
     "name": "stdout",
     "output_type": "stream",
     "text": [
      "[[ 0.76125124  0.76200281  0.59020285]\n",
      " [-0.99531606  1.27264057  0.7062796 ]\n",
      " [ 0.57967185  1.40191695 -0.53515859]]\n"
     ]
    }
   ],
   "source": [
    "# Ek 3x3 ka normally distributed array banao\n",
    "arr = np.random.randn(3,3)\n",
    "print(arr)"
   ]
  },
  {
   "cell_type": "markdown",
   "id": "67180aa2-c75b-4bdc-9ebc-f3e6bf890dc7",
   "metadata": {},
   "source": [
    "# np.random.randint()\n",
    "- Description:\n",
    "np.random.randint() deta hai random integers kisi specific range ke andar.\n",
    "- Syntax:\n",
    "np.random.randint(low, high, size)"
   ]
  },
  {
   "cell_type": "code",
   "execution_count": 41,
   "id": "73264dc1-ace1-408c-bb34-43cfed4745e6",
   "metadata": {},
   "outputs": [
    {
     "name": "stdout",
     "output_type": "stream",
     "text": [
      "[16 11 18 16 13]\n"
     ]
    }
   ],
   "source": [
    "# Example 1: Random integers from 10 to 20 (5 values)\n",
    "\n",
    "arr = np.random.randint(10, 20, 5)\n",
    "print(arr)"
   ]
  },
  {
   "cell_type": "code",
   "execution_count": 42,
   "id": "1f7c5f5f-1453-4073-a774-99ca1cc73097",
   "metadata": {},
   "outputs": [
    {
     "name": "stdout",
     "output_type": "stream",
     "text": [
      "[[37 65 22]\n",
      " [54 35 50]\n",
      " [29 95 31]]\n"
     ]
    }
   ],
   "source": [
    "#v Example 2: 2D array (3x3) with random integers from 0 to 100\n",
    "\n",
    "arr = np.random.randint(0, 100, (3, 3))\n",
    "print(arr)"
   ]
  },
  {
   "cell_type": "code",
   "execution_count": 43,
   "id": "bc0e17ac-d8bc-411e-9c24-4795f1dd86fc",
   "metadata": {},
   "outputs": [
    {
     "name": "stdout",
     "output_type": "stream",
     "text": [
      "[[4 5]\n",
      " [5 5]\n",
      " [3 3]\n",
      " [2 4]]\n"
     ]
    }
   ],
   "source": [
    "# Ek 4x2 ka array banao jisme 1 se 6 ke darmiyan random integers hon\n",
    "arr = np.random.randint(1, 7, (4, 2))\n",
    "print(arr)\n"
   ]
  },
  {
   "cell_type": "markdown",
   "id": "2505e3fa-6bf7-452c-a16b-d4bfefb7e67a",
   "metadata": {},
   "source": [
    "# np.empty()\n",
    "## Description:\n",
    "np.empty() ek empty array create karta hai without initializing values.\n",
    "\n",
    "- Iska matlab: array ban jaata hai, lekin uske andar random garbage values hoti hain (previous memory junk).\n",
    "\n",
    "- Yeh fast hota hai jab tumhe placeholder array chahiye ho aur baad me values daalni ho.\n",
    "\n",
    "- Syntax:\n",
    "\n",
    "np.empty(shape, dtype=float)\n",
    "\n"
   ]
  },
  {
   "cell_type": "code",
   "execution_count": 44,
   "id": "f4044547-de0e-4815-ba42-fa36eb022afd",
   "metadata": {},
   "outputs": [
    {
     "name": "stdout",
     "output_type": "stream",
     "text": [
      "[0.5 1.  1.5 2. ]\n"
     ]
    }
   ],
   "source": [
    "# Example 1: 1D empty array of size 4\n",
    "\n",
    "arr = np.empty(4)\n",
    "print(arr)\n",
    "\n"
   ]
  },
  {
   "cell_type": "code",
   "execution_count": 45,
   "id": "bf5799e0-cbe1-42a6-adf5-b03d6581a0f6",
   "metadata": {},
   "outputs": [
    {
     "name": "stdout",
     "output_type": "stream",
     "text": [
      "[[6.23042070e-307 4.67296746e-307 1.69121096e-306]\n",
      " [1.29060871e-306 1.89146896e-307 7.56571288e-307]]\n"
     ]
    }
   ],
   "source": [
    "# Example 2: 2D empty array (2x3)\n",
    "arr = np.empty((2, 3))\n",
    "print(arr)"
   ]
  },
  {
   "cell_type": "code",
   "execution_count": 46,
   "id": "de9193d8-0239-4f65-9fdb-79a0e8571447",
   "metadata": {},
   "outputs": [
    {
     "name": "stdout",
     "output_type": "stream",
     "text": [
      "[[ 0.76125124  0.76200281  0.59020285]\n",
      " [-0.99531606  1.27264057  0.7062796 ]\n",
      " [ 0.57967185  1.40191695 -0.53515859]]\n"
     ]
    }
   ],
   "source": [
    "# Ek 3x3 ka empty array banao\n",
    "arr = np.empty((3, 3))\n",
    "print(arr)\n"
   ]
  },
  {
   "cell_type": "markdown",
   "id": "1fac0389-1db8-486e-8f43-d8994d48fb0f",
   "metadata": {},
   "source": [
    "# np.identity()\n",
    "## Description:\n",
    "np.identity() banata hai Identity Matrix:\n",
    "\n",
    "- Diagonal me sirf 1 hota hai\n",
    "\n",
    "- Baaki sab elements 0\n",
    "\n",
    "- Square matrix hoti hai (n x n)\n",
    "\n",
    " Identity matrix ka kaam: kisi bhi matrix ko multiply karne par same matrix milti hai — jaise 1 × 5 = 5\n",
    "\n",
    "-  Syntax:\n",
    "np.identity(n)\n",
    "- n: Rows and columns (equal)"
   ]
  },
  {
   "cell_type": "code",
   "execution_count": 47,
   "id": "884202d1-d051-40c3-85e7-5cf103e54cc3",
   "metadata": {},
   "outputs": [
    {
     "name": "stdout",
     "output_type": "stream",
     "text": [
      "[[1. 0. 0.]\n",
      " [0. 1. 0.]\n",
      " [0. 0. 1.]]\n"
     ]
    }
   ],
   "source": [
    "# Example 1: 3x3 identity matrix\n",
    "\n",
    "arr = np.identity(3)\n",
    "print(arr)"
   ]
  },
  {
   "cell_type": "code",
   "execution_count": 48,
   "id": "9fe47929-6e4d-4e5b-8a29-e5cf462998de",
   "metadata": {},
   "outputs": [
    {
     "name": "stdout",
     "output_type": "stream",
     "text": [
      "[[1. 0. 0. 0. 0.]\n",
      " [0. 1. 0. 0. 0.]\n",
      " [0. 0. 1. 0. 0.]\n",
      " [0. 0. 0. 1. 0.]\n",
      " [0. 0. 0. 0. 1.]]\n"
     ]
    }
   ],
   "source": [
    "# Example 2: 5x5 identity matrix\n",
    "\n",
    "arr = np.identity(5)\n",
    "print(arr)"
   ]
  },
  {
   "cell_type": "code",
   "execution_count": 49,
   "id": "22b07c07-a742-49bd-a850-6ffbff375843",
   "metadata": {},
   "outputs": [
    {
     "name": "stdout",
     "output_type": "stream",
     "text": [
      "[[1. 0. 0. 0.]\n",
      " [0. 1. 0. 0.]\n",
      " [0. 0. 1. 0.]\n",
      " [0. 0. 0. 1.]]\n"
     ]
    }
   ],
   "source": [
    "# Ek 4x4 identity matrix banao\n",
    "arr = np.identity(4)\n",
    "print(arr)\n"
   ]
  },
  {
   "cell_type": "markdown",
   "id": "d75c92a3-f050-40b9-b984-a20ea4a4aa57",
   "metadata": {},
   "source": [
    "# np.tile()\n",
    "- Description:\n",
    "np.tile() kisi array ko repeat karta hai horizontally ya vertically.\n",
    "\n",
    "\n",
    "Socho aise jaise kisi design ko pattern me copy karna ho.\n",
    "\n",
    "- Syntax:\n",
    "np.tile(array, reps)\n",
    "\n",
    " - array: original array\n",
    "\n",
    " - reps: kitni baar repeat karna hai\n",
    "\n",
    "    - Agar int doge: horizontally repeat hota hai\n",
    "\n",
    "    - Agar (m, n) tuple doge: vertically aur horizontally dono"
   ]
  },
  {
   "cell_type": "code",
   "execution_count": 50,
   "id": "98ee5f90-c75b-4585-b68b-cb0c8c0a53c7",
   "metadata": {},
   "outputs": [
    {
     "data": {
      "text/plain": [
       "array([1, 2, 3, 1, 2, 3, 1, 2, 3])"
      ]
     },
     "execution_count": 50,
     "metadata": {},
     "output_type": "execute_result"
    }
   ],
   "source": [
    "# Example 1: 1D array ko repeat karna\n",
    "arr = np.array([1,2,3])\n",
    "\n",
    "np.tile(arr , 3)"
   ]
  },
  {
   "cell_type": "code",
   "execution_count": 51,
   "id": "5a9d672b-9149-48d8-922f-ccfee3162b66",
   "metadata": {},
   "outputs": [
    {
     "data": {
      "text/plain": [
       "array([[1, 2, 1, 2, 1, 2],\n",
       "       [3, 4, 3, 4, 3, 4],\n",
       "       [1, 2, 1, 2, 1, 2],\n",
       "       [3, 4, 3, 4, 3, 4]])"
      ]
     },
     "execution_count": 51,
     "metadata": {},
     "output_type": "execute_result"
    }
   ],
   "source": [
    "# Example 2: 2D array ko horizontally aur vertically repeat karna\n",
    "\n",
    "arr = np.array([[1, 2], [3, 4]])\n",
    "np.tile(arr, (2, 3))  # 2 rows block, 3 cols block"
   ]
  },
  {
   "cell_type": "code",
   "execution_count": 52,
   "id": "ef46607a-7b6a-48c8-b490-b327bea15a66",
   "metadata": {},
   "outputs": [
    {
     "data": {
      "text/plain": [
       "array([[1, 2, 1, 2],\n",
       "       [3, 4, 3, 4],\n",
       "       [1, 2, 1, 2],\n",
       "       [3, 4, 3, 4],\n",
       "       [1, 2, 1, 2],\n",
       "       [3, 4, 3, 4]])"
      ]
     },
     "execution_count": 52,
     "metadata": {},
     "output_type": "execute_result"
    }
   ],
   "source": [
    "# Ek 2x2 matrix lo aur use 3x2 matrix pattern me tile karo\n",
    "arr = np.array([[1,2],[3,4]])\n",
    "np.tile(arr, (3,2))"
   ]
  },
  {
   "cell_type": "markdown",
   "id": "8387fcc0-9307-4d8c-8e5c-7a5117c685ba",
   "metadata": {},
   "source": [
    "# np.diag()\n",
    "- Description:\n",
    "np.diag() ka kaam hota hai diagonal array banana.\n",
    "\n",
    "- Ya to ek array doge — vo diagonal line pe set ho jayega.\n",
    "\n",
    "- Ya ek matrix se sirf diagonal values nikaloge.\n",
    "\n",
    "- Diagonal matlab:\n",
    " Jo values row aur column same ho, jaise (0,0), (1,1), (2,2), etc."
   ]
  },
  {
   "cell_type": "markdown",
   "id": "9efbe4a0-65c0-4a43-8680-d4accaa7b206",
   "metadata": {},
   "source": [
    "- Syntax:\n",
    "np.diag(array, k=0)\n",
    "array: list ya array jiski diagonal banana hai\n",
    "\n",
    "k:\n",
    "\n",
    "0 → main diagonal\n",
    "\n",
    "+1 → ek upar wali diagonal\n",
    "\n",
    "-1 → ek neeche wali diagonal"
   ]
  },
  {
   "cell_type": "code",
   "execution_count": 53,
   "id": "eee00503-9103-4ab2-af19-2b9828b04dba",
   "metadata": {},
   "outputs": [
    {
     "name": "stdout",
     "output_type": "stream",
     "text": [
      "[[1 0 0]\n",
      " [0 2 0]\n",
      " [0 0 3]]\n"
     ]
    }
   ],
   "source": [
    "# Example 1: List se diagonal banana\n",
    "\n",
    "arr = np.array([1, 2, 3])\n",
    "d = np.diag(arr)\n",
    "print(d)"
   ]
  },
  {
   "cell_type": "code",
   "execution_count": 54,
   "id": "a6b0be8a-4c90-43eb-8d46-263c6c3c5323",
   "metadata": {},
   "outputs": [
    {
     "name": "stdout",
     "output_type": "stream",
     "text": [
      "[1 5 9]\n"
     ]
    }
   ],
   "source": [
    "# Example 2: Matrix se diagonal values nikalna\n",
    "\n",
    "arr2 = np.array([[1, 2, 3],\n",
    "                 [4, 5, 6],\n",
    "                 [7, 8, 9]])\n",
    "diag_values = np.diag(arr2)\n",
    "print(diag_values)"
   ]
  },
  {
   "cell_type": "code",
   "execution_count": 55,
   "id": "9bb7f40e-b4f4-4c39-a2a8-13b68dcc7da9",
   "metadata": {},
   "outputs": [
    {
     "name": "stdout",
     "output_type": "stream",
     "text": [
      "[[10  0  0  0]\n",
      " [ 0 20  0  0]\n",
      " [ 0  0 30  0]\n",
      " [ 0  0  0 40]]\n"
     ]
    }
   ],
   "source": [
    "arr = np.array([10, 20, 30, 40])\n",
    "d = np.diag(arr)\n",
    "print(d)\n"
   ]
  },
  {
   "cell_type": "code",
   "execution_count": 57,
   "id": "e861f1ac-024c-4dde-a467-9922b1ec23a9",
   "metadata": {},
   "outputs": [
    {
     "data": {
      "text/plain": [
       "array([ 5, 12, 19])"
      ]
     },
     "execution_count": 57,
     "metadata": {},
     "output_type": "execute_result"
    }
   ],
   "source": [
    "arr2 = np.array([[5, 7, 9],\n",
    "                 [10, 12, 14],\n",
    "                 [15, 17, 19]])\n",
    "d2 = np.diag(arr2)\n",
    "d2\n"
   ]
  },
  {
   "cell_type": "code",
   "execution_count": 60,
   "id": "f861598a-5cc4-45bc-afa1-0cc6df447195",
   "metadata": {},
   "outputs": [
    {
     "name": "stdout",
     "output_type": "stream",
     "text": [
      "[1 7]\n"
     ]
    }
   ],
   "source": [
    "arr1 = np.array([[1,2,3,4,5],\n",
    "                 [6,7,8,9,10]])\n",
    "d = np.diag(arr1)\n",
    "print(d)"
   ]
  },
  {
   "cell_type": "markdown",
   "id": "aaf2dcd4-41bb-4b01-ac51-23ab0003c031",
   "metadata": {},
   "source": [
    "# np.fromfunction()\n",
    "- Description:\n",
    "np.fromfunction() array ko banate waqt hi decide karte hain har element ka formula kya hoga.\n",
    "\n",
    "- Har element ki value uske indexes (row, column number) se calculate hoti hai.\n",
    "\n",
    "Bohot useful jab array ka pattern ya calculation pe based data banana ho."
   ]
  },
  {
   "cell_type": "markdown",
   "id": "2c628eca-a8bc-458a-b0e1-49e4245e180b",
   "metadata": {},
   "source": [
    "## Syntax:\n",
    "\n",
    "- np.fromfunction(function, shape, dtype=int)\n",
    "  \n",
    "  - function: ek aisi function jo (row, col) index se value calculate kare.\n",
    "\n",
    "  - shape: tuple — (rows, columns)\n",
    "\n",
    "  - dtype: data type (default int)\n",
    "\n"
   ]
  },
  {
   "cell_type": "code",
   "execution_count": 68,
   "id": "80a84cf1-728c-4b24-8931-5d4a9d77a333",
   "metadata": {},
   "outputs": [
    {
     "name": "stdout",
     "output_type": "stream",
     "text": [
      "[[0 1 2]\n",
      " [1 2 3]\n",
      " [2 3 4]]\n"
     ]
    }
   ],
   "source": [
    "# Example 1: Simple add karna\n",
    "\n",
    "\n",
    "\n",
    "arr = np.fromfunction(lambda i, j: i + j, (3, 3), dtype=int)\n",
    "print(arr)"
   ]
  },
  {
   "cell_type": "code",
   "execution_count": 64,
   "id": "ad6d846b-4735-408d-91be-27b68ef02a11",
   "metadata": {},
   "outputs": [
    {
     "name": "stdout",
     "output_type": "stream",
     "text": [
      "[[1 2 3]\n",
      " [2 4 6]\n",
      " [3 6 9]]\n"
     ]
    }
   ],
   "source": [
    "# Example 2: Multiplication table jesa\n",
    "\n",
    "arr2 = np.fromfunction(lambda i, j: (i+1)*(j+1), (3,3), dtype=int)\n",
    "print(arr2)"
   ]
  },
  {
   "cell_type": "code",
   "execution_count": 65,
   "id": "a858c853-a631-4fbc-b8cb-aab054b52fc0",
   "metadata": {},
   "outputs": [
    {
     "name": "stdout",
     "output_type": "stream",
     "text": [
      "[[0 1 2 3]\n",
      " [1 2 3 4]\n",
      " [2 3 4 5]\n",
      " [3 4 5 6]]\n"
     ]
    }
   ],
   "source": [
    "# Task 1: Simple sum of indexes\n",
    "\n",
    "\n",
    "arr = np.fromfunction(lambda i, j: i + j, (4, 4), dtype=int)\n",
    "print(arr)"
   ]
  },
  {
   "cell_type": "code",
   "execution_count": 66,
   "id": "9157f84f-8cbb-473b-87ac-2ad54c993834",
   "metadata": {},
   "outputs": [
    {
     "name": "stdout",
     "output_type": "stream",
     "text": [
      "[[ 0  3  6  9 12]\n",
      " [ 2  5  8 11 14]\n",
      " [ 4  7 10 13 16]]\n"
     ]
    }
   ],
   "source": [
    "# Task 2: Create table where element = (row * 2) + (column * 3)\n",
    "\n",
    "\n",
    "arr2 = np.fromfunction(lambda i, j: (i * 2) + (j * 3), (3, 5), dtype=int)\n",
    "print(arr2)"
   ]
  },
  {
   "cell_type": "code",
   "execution_count": 67,
   "id": "76cc16a1-078e-45a1-ab3f-308ca62383ee",
   "metadata": {},
   "outputs": [
    {
     "name": "stdout",
     "output_type": "stream",
     "text": [
      "[[0 0 0 0]\n",
      " [1 1 1 1]\n",
      " [4 4 4 4]\n",
      " [9 9 9 9]]\n"
     ]
    }
   ],
   "source": [
    "# Task 3: (Challenge 🔥) Banayo array jisme har element (row number ka square) ho.\n",
    "\n",
    "\n",
    "arr3 = np.fromfunction(lambda i, j: i**2, (4, 4), dtype=int)\n",
    "print(arr3)"
   ]
  },
  {
   "cell_type": "markdown",
   "id": "e7f8b99a-3644-48e2-ace0-a8d73f854334",
   "metadata": {},
   "source": [
    "## Task 1 — Simple Addition Grid\n",
    "👉 Aisa array banao jisme har element row_index + col_index ka result ho.\n",
    "\n",
    "Size = (4, 4)"
   ]
  },
  {
   "cell_type": "code",
   "execution_count": 74,
   "id": "2a50aab1-3108-4858-b124-5f43ef6b7072",
   "metadata": {},
   "outputs": [
    {
     "name": "stdout",
     "output_type": "stream",
     "text": [
      "[[0. 1. 2. 3.]\n",
      " [1. 2. 3. 4.]\n",
      " [2. 3. 4. 5.]\n",
      " [3. 4. 5. 6.]]\n"
     ]
    }
   ],
   "source": [
    "arr4 = np.fromfunction(lambda i,j : i+j, (4,4))\n",
    "print(arr4)"
   ]
  },
  {
   "cell_type": "markdown",
   "id": "32072d34-27a4-4b1c-a981-98136b91673b",
   "metadata": {},
   "source": [
    "## Task 2 — Multiplication Grid\n",
    "👉 Aisa array banao jisme har element row_index * col_index ka result ho.\n",
    "\n",
    "Size = (3, 5)"
   ]
  },
  {
   "cell_type": "code",
   "execution_count": 80,
   "id": "977ae53b-5598-46df-9af3-215e784b8fa3",
   "metadata": {},
   "outputs": [
    {
     "name": "stdout",
     "output_type": "stream",
     "text": [
      "[[0. 0. 0. 0. 0.]\n",
      " [0. 1. 2. 3. 4.]\n",
      " [0. 2. 4. 6. 8.]]\n"
     ]
    }
   ],
   "source": [
    "arr3 = np.fromfunction(lambda i,j: (i*j), (3,5))\n",
    "print(arr3)"
   ]
  },
  {
   "cell_type": "code",
   "execution_count": 83,
   "id": "0c4f6c9c-c726-40d1-b573-a647f1e9a90e",
   "metadata": {},
   "outputs": [
    {
     "name": "stdout",
     "output_type": "stream",
     "text": [
      "[[1 1 1 1 1]\n",
      " [1 0 0 0 1]\n",
      " [1 0 0 0 1]\n",
      " [1 0 0 0 1]\n",
      " [1 1 1 1 1]]\n"
     ]
    }
   ],
   "source": [
    "\n",
    "arr = np.fromfunction(lambda i, j: np.where((i == 0) | (i == 4) | (j == 0) | (j == 4), 1, 0), (5,5), dtype=int)\n",
    "print(arr)\n"
   ]
  },
  {
   "cell_type": "markdown",
   "id": "dfd8a971-386e-40af-bf81-a9809e0def8b",
   "metadata": {},
   "source": [
    "# np.repeat()\n",
    "np.repeat(array, number_of_times)\t\n",
    "Har element ko repeat karta hai jitni dafa bolo\n",
    "\n",
    "- Syntax:\n",
    "\n",
    "np.repeat(array, repeats, axis=None)\n",
    "\n",
    "array = Jo array tum repeat karna chahte ho\n",
    "\n",
    "repeats = Kitni dafa har element repeat hoga\n",
    "\n",
    "axis = 1D, 2D array ke hisab se vertical ya horizontal repeat (abhi basic me ignore kar sakte hain)\n",
    "\n"
   ]
  },
  {
   "cell_type": "code",
   "execution_count": 84,
   "id": "29351450-1d69-4972-8a8e-d3246acd1a28",
   "metadata": {},
   "outputs": [
    {
     "name": "stdout",
     "output_type": "stream",
     "text": [
      "[1 1 2 2 3 3 4 4]\n"
     ]
    }
   ],
   "source": [
    "arr = np.array([[1, 2], [3, 4]])\n",
    "\n",
    "new_arr = np.repeat(arr, 2)\n",
    "\n",
    "print(new_arr)\n"
   ]
  },
  {
   "cell_type": "code",
   "execution_count": 85,
   "id": "e393f843-6f05-434c-a835-caba9c39158e",
   "metadata": {},
   "outputs": [
    {
     "name": "stdout",
     "output_type": "stream",
     "text": [
      "[[1 2]\n",
      " [1 2]\n",
      " [3 4]\n",
      " [3 4]]\n"
     ]
    }
   ],
   "source": [
    "arr = np.array([[1, 2], [3, 4]])\n",
    "\n",
    "new_arr = np.repeat(arr, 2, axis=0)\n",
    "# axis=0 ka matlab: rows repeat karo\n",
    "\n",
    "print(new_arr)\n"
   ]
  },
  {
   "cell_type": "code",
   "execution_count": null,
   "id": "176d9499-f50d-4577-9740-341bb05eb30d",
   "metadata": {},
   "outputs": [],
   "source": []
  }
 ],
 "metadata": {
  "kernelspec": {
   "display_name": "Python 3 (ipykernel)",
   "language": "python",
   "name": "python3"
  },
  "language_info": {
   "codemirror_mode": {
    "name": "ipython",
    "version": 3
   },
   "file_extension": ".py",
   "mimetype": "text/x-python",
   "name": "python",
   "nbconvert_exporter": "python",
   "pygments_lexer": "ipython3",
   "version": "3.12.7"
  }
 },
 "nbformat": 4,
 "nbformat_minor": 5
}
